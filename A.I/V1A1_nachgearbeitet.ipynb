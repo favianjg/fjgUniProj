{
 "cells": [
  {
   "cell_type": "markdown",
   "metadata": {},
   "source": [
    "# Aufgabe 1"
   ]
  },
  {
   "cell_type": "markdown",
   "metadata": {},
   "source": [
    "Im ersten Schritt muss Numpy importiert werden um später auf Funktionen zurückgreifen zu können"
   ]
  },
  {
   "cell_type": "code",
   "execution_count": 6,
   "metadata": {},
   "outputs": [],
   "source": [
    "# Programmgeruest zu Versuch 1, Aufgabe 1\n",
    "import numpy as np"
   ]
  },
  {
   "cell_type": "markdown",
   "metadata": {},
   "source": [
    "Als nächstes Initialisierung der Datenmatrix, sowie des Testdatenvektors"
   ]
  },
  {
   "cell_type": "code",
   "execution_count": 7,
   "metadata": {},
   "outputs": [
    {
     "name": "stdout",
     "output_type": "stream",
     "text": [
      "Data matrix X=\n",
      " [[1 2 3]\n",
      " [2 3 4]\n",
      " [3 4 5]\n",
      " [4 5 6]]\n",
      "Test vector x= [1.5 3.6 5.7]\n"
     ]
    }
   ],
   "source": [
    "# ***** MAIN PROGRAM ********\n",
    "\n",
    "# (i) Generate dummy data \n",
    "X = np.array([[1,2,3],[2,3,4],[3,4,5],[4,5,6]]);      # data matrix X: list of data vectors (=database) of dimension D=3\n",
    "x = np.array([1.5,3.6,5.7]);                          # a test data vector\n",
    "print (\"Data matrix X=\\n\",X)\n",
    "print (\"Test vector x=\",x)"
   ]
  },
  {
   "cell_type": "markdown",
   "metadata": {},
   "source": [
    "Hier wird für jeden Eintrag in der Datenmatrix die euklidische Distanz zum Testvektor berechnet"
   ]
  },
  {
   "cell_type": "code",
   "execution_count": 5,
   "metadata": {},
   "outputs": [
    {
     "name": "stdout",
     "output_type": "stream",
     "text": [
      "Euklidean distances to x:  [3.178049716414141, 1.8708286933869709, 1.7029386365926402, 2.8809720581775866]\n"
     ]
    }
   ],
   "source": [
    "# (ii) Print all Euklidean distances to test vector x\n",
    "print (\"Euklidean distances to x: \", [np.linalg.norm(i-x) for i in X])   #compute list of Euklidean distances   "
   ]
  },
  {
   "cell_type": "markdown",
   "metadata": {},
   "source": [
    "# Aufgabe 1a"
   ]
  },
  {
   "cell_type": "markdown",
   "metadata": {},
   "source": [
    "__Schreiben Sie eine Python-Funktion getKNearestNeighbor(X, x, k=1) welche zum Testvektor x eine Index-Liste der k-Nearest-Neighbors in der Datenmatrix X zurückgibt.__"
   ]
  },
  {
   "cell_type": "code",
   "execution_count": 33,
   "metadata": {},
   "outputs": [],
   "source": [
    "def getKNearestNeighbors(x,X,k=1):  # realizes nearest neighbor search of x in database\n",
    "    \"\"\"\n",
    "    compute the k nearest neighbors for a query vector x given a data matrix X\n",
    "    :param x: the query vector x\n",
    "    :param X: the N x D data matrix (in each row there is data vector) as a numpy array\n",
    "    :param k: number of nearest-neighbors to be returned\n",
    "    :return: return list of k line indixes referring to the k nearest neighbors of x in X\n",
    "    \"\"\"\n",
    "    if k-1 > X.size or k < 0: # check for invalid inputs for k\n",
    "        return -1\n",
    "    return [np.argsort([np.linalg.norm(i-x) for i in X])[j] for j in range(k)] # return indexes of k smallest distances"
   ]
  },
  {
   "cell_type": "markdown",
   "metadata": {},
   "source": [
    "# Aufgabe 1b"
   ]
  },
  {
   "cell_type": "markdown",
   "metadata": {},
   "source": [
    "zum Schluss wird die Funktion aufgerufen und das Ergebnis aufgearbeitet ausgegeben"
   ]
  },
  {
   "cell_type": "code",
   "execution_count": 34,
   "metadata": {},
   "outputs": [
    {
     "name": "stdout",
     "output_type": "stream",
     "text": [
      "idx_knn= [2, 1]\n",
      "The k Nearest Neighbors of x are the following vectors:\n",
      "The 1 th nearest neighbor is: X[ 2 ]= [3 4 5]  with distance  1.7029386365926402\n",
      "The 2 th nearest neighbor is: X[ 1 ]= [2 3 4]  with distance  1.8708286933869709\n"
     ]
    }
   ],
   "source": [
    "# (iii) Search for k nearest neighbor\n",
    "k=2\n",
    "idx_knn = getKNearestNeighbors(x,X,k)                  # get indexes of k nearest neighbors\n",
    "print (\"idx_knn=\",idx_knn)\n",
    "\n",
    "# (iv) output results\n",
    "print (\"The k Nearest Neighbors of x are the following vectors:\")\n",
    "for i in range(k):\n",
    "    idx=idx_knn[i]\n",
    "    print (\"The\", i+1, \"th nearest neighbor is: X[\",idx,\"]=\",X[idx],\" with distance \", np.linalg.norm(X[idx]-x))"
   ]
  },
  {
   "cell_type": "markdown",
   "metadata": {},
   "source": [
    "# Aufgabe 1c"
   ]
  },
  {
   "cell_type": "markdown",
   "metadata": {},
   "source": [
    "Wie viele Rechenschritte in Abhängigkeit von N:=len(X), D:=len(x)und k braucht Ihr Programm, um eine Anfrage zu bearbeiten (Angabe in O-Notation reicht)? Kennen Sie schnellere Verfahren?"
   ]
  },
  {
   "cell_type": "markdown",
   "metadata": {},
   "source": [
    "Rechenschritte :     \n",
    "\n",
    "Jede Berechnung der Distanz benötigt O(D) Rechenschritte.\n",
    "Die Berecnhung der Distanz muss also N mal durchgeführt werden und die Funktion benötigt daher O(N*D) Rechenschritte.\n",
    "Das sortieren der Distanzen benötigt O(n log(n) Rechenschritte\n",
    "Die Distanzen müssen zum Schluss noch k mal auf das Array (zugeriffen werden) O(k)\n",
    "Zusammen ergibt sich für die Funktion folgende zusammengesetzte Abhängigkeit: O(N*D + N log(N) + k) \n",
    "\n",
    "schnelleres Verfahren vor allem für große Datenmengen oder Dimensionen sind Kd-trees unter der Annahme eines balancierten Baumes"
   ]
  }
 ],
 "metadata": {
  "kernelspec": {
   "display_name": "Python 3",
   "language": "python",
   "name": "python3"
  },
  "language_info": {
   "codemirror_mode": {
    "name": "ipython",
    "version": 3
   },
   "file_extension": ".py",
   "mimetype": "text/x-python",
   "name": "python",
   "nbconvert_exporter": "python",
   "pygments_lexer": "ipython3",
   "version": "3.6.4"
  }
 },
 "nbformat": 4,
 "nbformat_minor": 2
}
